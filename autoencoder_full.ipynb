{
 "cells": [
  {
   "cell_type": "code",
   "execution_count": 1,
   "metadata": {},
   "outputs": [
    {
     "name": "stderr",
     "output_type": "stream",
     "text": [
      "Using TensorFlow backend.\n"
     ]
    }
   ],
   "source": [
    "import numpy as np\n",
    "import pandas as pd\n",
    "import matplotlib.pyplot as plt\n",
    "from sklearn.utils import shuffle\n",
    "from scipy.sparse import save_npz, load_npz\n",
    "\n",
    "import keras.backend as K\n",
    "from keras.models import Model\n",
    "from keras.layers import Input, Dropout, Dense\n",
    "from keras.regularizers import l2\n",
    "from keras.optimizers import SGD"
   ]
  },
  {
   "cell_type": "code",
   "execution_count": 2,
   "metadata": {},
   "outputs": [
    {
     "name": "stdout",
     "output_type": "stream",
     "text": [
      "N: 480189 M: 17770\n",
      "N // batch_size: 3751\n",
      "mu: 3.60434573099098\n",
      "WARNING:tensorflow:Large dropout rate: 0.7 (>0.5). In TensorFlow 2.x, dropout() uses dropout rate instead of keep_prob. Please ensure that this is intended.\n"
     ]
    }
   ],
   "source": [
    "# config\n",
    "batch_size = 128\n",
    "epochs = 25\n",
    "reg = 0.0001\n",
    "#reg = 0\n",
    "\n",
    "A = load_npz(\"Atrain_re.npz\")\n",
    "A_test = load_npz(\"Atest_re.npz\")\n",
    "mask = (A > 0) * 1.0\n",
    "mask_test = (A_test > 0) * 1.0\n",
    "\n",
    "# make copies since we will shuffle\n",
    "A_copy = A.copy()\n",
    "mask_copy = mask.copy()\n",
    "A_test_copy = A_test.copy()\n",
    "mask_test_copy = mask_test.copy()\n",
    "\n",
    "N, M = A.shape\n",
    "print(\"N:\", N, \"M:\", M)\n",
    "print(\"N // batch_size:\", N // batch_size)\n",
    "\n",
    "# center the data\n",
    "mu = A.sum() / mask.sum()\n",
    "print(\"mu:\", mu)\n",
    "\n",
    "# build the model - just a 1 hidden layer autoencoder\n",
    "i = Input(shape=(M,))\n",
    "# bigger hidden layer size seems to help!\n",
    "x = Dropout(0.7)(i)\n",
    "x = Dense(700, activation='tanh', kernel_regularizer=l2(reg))(x)\n",
    "# x = Dropout(0.5)(x)\n",
    "x = Dense(M, kernel_regularizer=l2(reg))(x)"
   ]
  },
  {
   "cell_type": "code",
   "execution_count": 3,
   "metadata": {},
   "outputs": [],
   "source": [
    "def custom_loss(y_true, y_pred):\n",
    "    mask = K.cast(K.not_equal(y_true, 0), dtype='float32')\n",
    "    diff = y_pred - y_true\n",
    "    sqdiff = diff * diff * mask\n",
    "    sse = K.sum(K.sum(sqdiff))\n",
    "    n = K.sum(K.sum(mask))\n",
    "    return sse / n\n",
    "\n",
    "\n",
    "def generator(A, M):\n",
    "    while True:\n",
    "        A, M = shuffle(A, M)\n",
    "        for i in range(A.shape[0] // batch_size + 1):\n",
    "            upper = min((i+1)*batch_size, A.shape[0])\n",
    "            a = A[i*batch_size:upper].toarray()\n",
    "            m = M[i*batch_size:upper].toarray()\n",
    "            a = a - mu * m # must keep zeros at zero!\n",
    "            # m2 = (np.random.random(a.shape) > 0.5)\n",
    "            # noisy = a * m2\n",
    "            noisy = a # no noise\n",
    "            yield noisy, a\n",
    "\n",
    "\n",
    "def test_generator(A, M, A_test, M_test):\n",
    "    # assumes A and A_test are in corresponding order\n",
    "    # both of size N x M\n",
    "    while True:\n",
    "        for i in range(A.shape[0] // batch_size + 1):\n",
    "            upper = min((i+1)*batch_size, A.shape[0])\n",
    "            a = A[i*batch_size:upper].toarray()\n",
    "            m = M[i*batch_size:upper].toarray()\n",
    "            at = A_test[i*batch_size:upper].toarray()\n",
    "            mt = M_test[i*batch_size:upper].toarray()\n",
    "            a = a - mu * m\n",
    "            at = at - mu * mt\n",
    "            yield a, at"
   ]
  },
  {
   "cell_type": "code",
   "execution_count": 4,
   "metadata": {},
   "outputs": [
    {
     "name": "stdout",
     "output_type": "stream",
     "text": [
      "Epoch 1/25\n",
      "3752/3752 [==============================] - 522s 139ms/step - loss: 0.9314 - custom_loss: 0.7511 - val_loss: 0.8544 - val_custom_loss: 0.7581\n",
      "Epoch 2/25\n",
      "3752/3752 [==============================] - 520s 138ms/step - loss: 0.7801 - custom_loss: 0.6851 - val_loss: 0.8030 - val_custom_loss: 0.7459\n",
      "Epoch 3/25\n",
      "3752/3752 [==============================] - 520s 139ms/step - loss: 0.7448 - custom_loss: 0.6737 - val_loss: 0.7852 - val_custom_loss: 0.7409\n",
      "Epoch 4/25\n",
      "3752/3752 [==============================] - 520s 139ms/step - loss: 0.7334 - custom_loss: 0.6685 - val_loss: 0.7833 - val_custom_loss: 0.7382\n",
      "Epoch 5/25\n",
      "3752/3752 [==============================] - 521s 139ms/step - loss: 0.7288 - custom_loss: 0.6649 - val_loss: 0.7813 - val_custom_loss: 0.7371\n",
      "Epoch 6/25\n",
      "3752/3752 [==============================] - 521s 139ms/step - loss: 0.7272 - custom_loss: 0.6629 - val_loss: 0.7798 - val_custom_loss: 0.7363\n",
      "Epoch 7/25\n",
      "3752/3752 [==============================] - 522s 139ms/step - loss: 0.7264 - custom_loss: 0.6616 - val_loss: 0.7809 - val_custom_loss: 0.7355\n",
      "Epoch 8/25\n",
      "3752/3752 [==============================] - 522s 139ms/step - loss: 0.7255 - custom_loss: 0.6602 - val_loss: 0.7850 - val_custom_loss: 0.7348\n",
      "Epoch 9/25\n",
      "3752/3752 [==============================] - 521s 139ms/step - loss: 0.7249 - custom_loss: 0.6592 - val_loss: 0.7836 - val_custom_loss: 0.7351\n",
      "Epoch 10/25\n",
      "3752/3752 [==============================] - 523s 139ms/step - loss: 0.7248 - custom_loss: 0.6589 - val_loss: 0.7849 - val_custom_loss: 0.7350\n",
      "Epoch 11/25\n",
      "3752/3752 [==============================] - 522s 139ms/step - loss: 0.7245 - custom_loss: 0.6581 - val_loss: 0.7826 - val_custom_loss: 0.7338\n",
      "Epoch 12/25\n",
      "3752/3752 [==============================] - 522s 139ms/step - loss: 0.7241 - custom_loss: 0.6576 - val_loss: 0.7844 - val_custom_loss: 0.7336\n",
      "Epoch 13/25\n",
      "3752/3752 [==============================] - 523s 140ms/step - loss: 0.7238 - custom_loss: 0.6573 - val_loss: 0.7822 - val_custom_loss: 0.7336\n",
      "Epoch 14/25\n",
      "3752/3752 [==============================] - 524s 140ms/step - loss: 0.7236 - custom_loss: 0.6568 - val_loss: 0.7810 - val_custom_loss: 0.7334\n",
      "Epoch 15/25\n",
      "3752/3752 [==============================] - 524s 140ms/step - loss: 0.7233 - custom_loss: 0.6565 - val_loss: 0.7765 - val_custom_loss: 0.7334\n",
      "Epoch 16/25\n",
      "3752/3752 [==============================] - 524s 140ms/step - loss: 0.7231 - custom_loss: 0.6563 - val_loss: 0.7842 - val_custom_loss: 0.7328\n",
      "Epoch 17/25\n",
      "3752/3752 [==============================] - 524s 140ms/step - loss: 0.7230 - custom_loss: 0.6560 - val_loss: 0.7818 - val_custom_loss: 0.7338\n",
      "Epoch 18/25\n",
      "3752/3752 [==============================] - 523s 140ms/step - loss: 0.7229 - custom_loss: 0.6558 - val_loss: 0.7849 - val_custom_loss: 0.7331\n",
      "Epoch 19/25\n",
      "3752/3752 [==============================] - 523s 139ms/step - loss: 0.7227 - custom_loss: 0.6555 - val_loss: 0.7807 - val_custom_loss: 0.7330\n",
      "Epoch 20/25\n",
      "3752/3752 [==============================] - 525s 140ms/step - loss: 0.7227 - custom_loss: 0.6557 - val_loss: 0.7792 - val_custom_loss: 0.7325\n",
      "Epoch 21/25\n",
      "3752/3752 [==============================] - 524s 140ms/step - loss: 0.7225 - custom_loss: 0.6555 - val_loss: 0.7825 - val_custom_loss: 0.7326\n",
      "Epoch 22/25\n",
      "3752/3752 [==============================] - 525s 140ms/step - loss: 0.7225 - custom_loss: 0.6554 - val_loss: 0.7811 - val_custom_loss: 0.7326\n",
      "Epoch 23/25\n",
      "3752/3752 [==============================] - 521s 139ms/step - loss: 0.7221 - custom_loss: 0.6549 - val_loss: 0.7772 - val_custom_loss: 0.7327\n",
      "Epoch 24/25\n",
      "3752/3752 [==============================] - 527s 141ms/step - loss: 0.7219 - custom_loss: 0.6548 - val_loss: 0.7780 - val_custom_loss: 0.7330\n",
      "Epoch 25/25\n",
      "3752/3752 [==============================] - 521s 139ms/step - loss: 0.7220 - custom_loss: 0.6548 - val_loss: 0.7825 - val_custom_loss: 0.7332\n",
      "dict_keys(['val_loss', 'val_custom_loss', 'loss', 'custom_loss'])\n"
     ]
    }
   ],
   "source": [
    "model = Model(i, x)\n",
    "model.compile(\n",
    "  loss=custom_loss,\n",
    "  optimizer=SGD(lr=0.08, momentum=0.9),\n",
    "  # optimizer='adam',\n",
    "  metrics=[custom_loss],\n",
    ")\n",
    "\n",
    "\n",
    "r = model.fit_generator(\n",
    "  generator(A, mask),\n",
    "  validation_data=test_generator(A_copy, mask_copy, A_test_copy, mask_test_copy),\n",
    "  epochs=epochs,\n",
    "  steps_per_epoch=A.shape[0] // batch_size + 1,\n",
    "  validation_steps=A_test.shape[0] // batch_size + 1,\n",
    ")\n",
    "print(r.history.keys())"
   ]
  },
  {
   "cell_type": "code",
   "execution_count": 5,
   "metadata": {},
   "outputs": [
    {
     "data": {
      "image/png": "[encoded data removed]",
      "text/plain": [
       "<Figure size 432x216 with 1 Axes>"
      ]
     },
     "metadata": {
      "needs_background": "light"
     },
     "output_type": "display_data"
    },
    {
     "data": {
      "image/png": "[encoded data removed]",
      "text/plain": [
       "<Figure size 432x216 with 1 Axes>"
      ]
     },
     "metadata": {
      "needs_background": "light"
     },
     "output_type": "display_data"
    }
   ],
   "source": [
    "# plot losses\n",
    "plt.figure(figsize = (6, 3))\n",
    "plt.plot(r.history['loss'], label=\"train loss\")\n",
    "plt.plot(r.history['val_loss'], label=\"test loss\")\n",
    "plt.legend()\n",
    "plt.show()\n",
    "\n",
    "# plot mse\n",
    "plt.figure(figsize = (6, 3))\n",
    "plt.plot(r.history['custom_loss'], label=\"train mse\")\n",
    "plt.plot(r.history['val_custom_loss'], label=\"test mse\")\n",
    "plt.legend()\n",
    "plt.show()"
   ]
  },
  {
   "cell_type": "code",
   "execution_count": 6,
   "metadata": {},
   "outputs": [
    {
     "name": "stdout",
     "output_type": "stream",
     "text": [
      "The resulting val_loss is about: 0.7331628203392029\n"
     ]
    }
   ],
   "source": [
    "print('The resulting val_loss is about: {}'.format(r.history['val_custom_loss'][-1]))"
   ]
  },
  {
   "cell_type": "code",
   "execution_count": 7,
   "metadata": {},
   "outputs": [
    {
     "data": {
      "text/plain": [
       "0.8562492746503222"
      ]
     },
     "execution_count": 7,
     "metadata": {},
     "output_type": "execute_result"
    }
   ],
   "source": [
    "0.7331628203392029**(1/2)"
   ]
  },
  {
   "cell_type": "code",
   "execution_count": null,
   "metadata": {},
   "outputs": [],
   "source": []
  }
 ],
 "metadata": {
  "kernelspec": {
   "display_name": "Python 3",
   "language": "python",
   "name": "python3"
  },
  "language_info": {
   "codemirror_mode": {
    "name": "ipython",
    "version": 3
   },
   "file_extension": ".py",
   "mimetype": "text/x-python",
   "name": "python",
   "nbconvert_exporter": "python",
   "pygments_lexer": "ipython3",
   "version": "3.7.7"
  }
 },
 "nbformat": 4,
 "nbformat_minor": 4
}
