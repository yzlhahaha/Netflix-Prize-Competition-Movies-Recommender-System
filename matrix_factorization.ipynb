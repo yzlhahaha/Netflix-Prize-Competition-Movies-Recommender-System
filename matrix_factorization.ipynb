{
 "cells": [
  {
   "cell_type": "code",
   "execution_count": 1,
   "metadata": {},
   "outputs": [
    {
     "name": "stderr",
     "output_type": "stream",
     "text": [
      "Using TensorFlow backend.\n"
     ]
    }
   ],
   "source": [
    "import pandas as pd\n",
    "from sklearn.utils import shuffle\n",
    "from keras.models import Model\n",
    "from keras.layers import Input, Embedding, Dot, Add, Flatten\n",
    "from keras.regularizers import l2\n",
    "from keras.optimizers import SGD, Adam\n",
    "import matplotlib.pyplot as plt"
   ]
  },
  {
   "cell_type": "code",
   "execution_count": 2,
   "metadata": {},
   "outputs": [],
   "source": [
    "df = pd.read_csv('shrink_rating.csv')"
   ]
  },
  {
   "cell_type": "code",
   "execution_count": 3,
   "metadata": {},
   "outputs": [
    {
     "name": "stdout",
     "output_type": "stream",
     "text": [
      "The number of users is 10000 and of movies is 2000\n"
     ]
    }
   ],
   "source": [
    "# As before\n",
    "N = df.user_id.max() + 1 # number of users\n",
    "M = df.movie_id.max() + 1 # number of movies\n",
    "print('The number of users is {} and of movies is {}'.format(N, M))"
   ]
  },
  {
   "cell_type": "code",
   "execution_count": 4,
   "metadata": {},
   "outputs": [],
   "source": [
    "df = shuffle(df)\n",
    "cutoff = int(0.8*len(df))\n",
    "df_train = df.iloc[:cutoff]\n",
    "df_test = df.iloc[cutoff:]"
   ]
  },
  {
   "cell_type": "code",
   "execution_count": 5,
   "metadata": {},
   "outputs": [],
   "source": [
    "# initialize variables\n",
    "K = 10 # latent dimensionality\n",
    "mu = df_train.rating.mean()\n",
    "epochs = 25\n",
    "reg = 0. # regularization penalty"
   ]
  },
  {
   "cell_type": "code",
   "execution_count": 6,
   "metadata": {},
   "outputs": [],
   "source": [
    "# keras model\n",
    "u = Input(shape=(1,))\n",
    "m = Input(shape=(1,))\n",
    "u_embedding = Embedding(N, K, embeddings_regularizer=l2(reg))(u) # (N, 1, K)\n",
    "m_embedding = Embedding(M, K, embeddings_regularizer=l2(reg))(m) # (N, 1, K)\n",
    "\n",
    "u_bias = Embedding(N, 1, embeddings_regularizer=l2(reg))(u) # (N, 1, 1)\n",
    "m_bias = Embedding(M, 1, embeddings_regularizer=l2(reg))(m) # (N, 1, 1)\n",
    "x = Dot(axes=2)([u_embedding, m_embedding]) # (N, 1, 1)\n",
    "\n",
    "x = Add()([x, u_bias, m_bias])\n",
    "x = Flatten()(x) # (N, 1)"
   ]
  },
  {
   "cell_type": "code",
   "execution_count": 7,
   "metadata": {},
   "outputs": [],
   "source": [
    "model = Model(inputs=[u, m], outputs=x)\n",
    "model.compile(\n",
    "  loss='mse',\n",
    "  # optimizer='adam',\n",
    "  # optimizer=Adam(lr=0.01),\n",
    "  optimizer=SGD(lr=0.01, momentum=0.9),\n",
    "  metrics=['mse'],\n",
    ")"
   ]
  },
  {
   "cell_type": "code",
   "execution_count": 8,
   "metadata": {},
   "outputs": [
    {
     "name": "stderr",
     "output_type": "stream",
     "text": [
      "c:\\users\\gaogaigar\\anaconda3\\envs\\pythongpu\\lib\\site-packages\\tensorflow_core\\python\\framework\\indexed_slices.py:433: UserWarning: Converting sparse IndexedSlices to a dense Tensor of unknown shape. This may consume a large amount of memory.\n",
      "  \"Converting sparse IndexedSlices to a dense Tensor of unknown shape. \"\n"
     ]
    },
    {
     "name": "stdout",
     "output_type": "stream",
     "text": [
      "Train on 7699189 samples, validate on 1924798 samples\n",
      "Epoch 1/25\n",
      "7699189/7699189 [==============================] - 415s 54us/step - loss: 0.8527 - mse: 0.8527 - val_loss: 0.8099 - val_mse: 0.8099\n",
      "Epoch 2/25\n",
      "7699189/7699189 [==============================] - 414s 54us/step - loss: 0.8076 - mse: 0.8076 - val_loss: 0.8076 - val_mse: 0.8076\n",
      "Epoch 3/25\n",
      "7699189/7699189 [==============================] - 403s 52us/step - loss: 0.8056 - mse: 0.8056 - val_loss: 0.8036 - val_mse: 0.8036\n",
      "Epoch 4/25\n",
      "7699189/7699189 [==============================] - 370s 48us/step - loss: 0.7885 - mse: 0.7885 - val_loss: 0.7666 - val_mse: 0.7666\n",
      "Epoch 5/25\n",
      "7699189/7699189 [==============================] - 371s 48us/step - loss: 0.7452 - mse: 0.7452 - val_loss: 0.7350 - val_mse: 0.7351\n",
      "Epoch 6/25\n",
      "7699189/7699189 [==============================] - 375s 49us/step - loss: 0.7263 - mse: 0.7263 - val_loss: 0.7211 - val_mse: 0.7211\n",
      "Epoch 7/25\n",
      "7699189/7699189 [==============================] - 377s 49us/step - loss: 0.7084 - mse: 0.7084 - val_loss: 0.7015 - val_mse: 0.7015\n",
      "Epoch 8/25\n",
      "7699189/7699189 [==============================] - 378s 49us/step - loss: 0.6868 - mse: 0.6868 - val_loss: 0.6820 - val_mse: 0.6820\n",
      "Epoch 9/25\n",
      "7699189/7699189 [==============================] - 378s 49us/step - loss: 0.6670 - mse: 0.6670 - val_loss: 0.6662 - val_mse: 0.6662\n",
      "Epoch 10/25\n",
      "7699189/7699189 [==============================] - 380s 49us/step - loss: 0.6529 - mse: 0.6529 - val_loss: 0.6569 - val_mse: 0.6569\n",
      "Epoch 11/25\n",
      "7699189/7699189 [==============================] - 381s 50us/step - loss: 0.6441 - mse: 0.6441 - val_loss: 0.6509 - val_mse: 0.6509\n",
      "Epoch 12/25\n",
      "7699189/7699189 [==============================] - 382s 50us/step - loss: 0.6374 - mse: 0.6374 - val_loss: 0.6460 - val_mse: 0.6460\n",
      "Epoch 13/25\n",
      "7699189/7699189 [==============================] - 382s 50us/step - loss: 0.6319 - mse: 0.6319 - val_loss: 0.6421 - val_mse: 0.6421\n",
      "Epoch 14/25\n",
      "7699189/7699189 [==============================] - 383s 50us/step - loss: 0.6276 - mse: 0.6276 - val_loss: 0.6393 - val_mse: 0.6393\n",
      "Epoch 15/25\n",
      "7699189/7699189 [==============================] - 383s 50us/step - loss: 0.6245 - mse: 0.6245 - val_loss: 0.6373 - val_mse: 0.6373\n",
      "Epoch 16/25\n",
      "7699189/7699189 [==============================] - 383s 50us/step - loss: 0.6223 - mse: 0.6223 - val_loss: 0.6357 - val_mse: 0.6357\n",
      "Epoch 17/25\n",
      "7699189/7699189 [==============================] - 386s 50us/step - loss: 0.6208 - mse: 0.6208 - val_loss: 0.6348 - val_mse: 0.6348\n",
      "Epoch 18/25\n",
      "7699189/7699189 [==============================] - 387s 50us/step - loss: 0.6197 - mse: 0.6197 - val_loss: 0.6339 - val_mse: 0.6339\n",
      "Epoch 19/25\n",
      "7699189/7699189 [==============================] - 387s 50us/step - loss: 0.6189 - mse: 0.6189 - val_loss: 0.6335 - val_mse: 0.6335\n",
      "Epoch 20/25\n",
      "7699189/7699189 [==============================] - 388s 50us/step - loss: 0.6184 - mse: 0.6184 - val_loss: 0.6330 - val_mse: 0.6330\n",
      "Epoch 21/25\n",
      "7699189/7699189 [==============================] - 389s 51us/step - loss: 0.6179 - mse: 0.6180 - val_loss: 0.6326 - val_mse: 0.6326\n",
      "Epoch 22/25\n",
      "7699189/7699189 [==============================] - 386s 50us/step - loss: 0.6176 - mse: 0.6176 - val_loss: 0.6323 - val_mse: 0.6323\n",
      "Epoch 23/25\n",
      "7699189/7699189 [==============================] - 385s 50us/step - loss: 0.6174 - mse: 0.6174 - val_loss: 0.6321 - val_mse: 0.6321\n",
      "Epoch 24/25\n",
      "7699189/7699189 [==============================] - 384s 50us/step - loss: 0.6171 - mse: 0.6171 - val_loss: 0.6321 - val_mse: 0.6321\n",
      "Epoch 25/25\n",
      "7699189/7699189 [==============================] - 386s 50us/step - loss: 0.6170 - mse: 0.6170 - val_loss: 0.6320 - val_mse: 0.6320\n"
     ]
    }
   ],
   "source": [
    "r = model.fit(\n",
    "  x=[df_train.user_id.values, df_train.movie_id.values],\n",
    "  y=df_train.rating.values - mu,\n",
    "  epochs=epochs,\n",
    "  batch_size=64,\n",
    "  validation_data=(\n",
    "    [df_test.user_id.values, df_test.movie_id.values],\n",
    "    df_test.rating.values - mu\n",
    "  )\n",
    ")"
   ]
  },
  {
   "cell_type": "code",
   "execution_count": 9,
   "metadata": {},
   "outputs": [
    {
     "data": {
      "image/png": "[encoded data removed]",
      "text/plain": [
       "<Figure size 432x216 with 1 Axes>"
      ]
     },
     "metadata": {
      "needs_background": "light"
     },
     "output_type": "display_data"
    },
    {
     "data": {
      "image/png": "[encoded data removed]",
      "text/plain": [
       "<Figure size 432x216 with 1 Axes>"
      ]
     },
     "metadata": {
      "needs_background": "light"
     },
     "output_type": "display_data"
    }
   ],
   "source": [
    "# plot losses\n",
    "plt.figure(figsize = (6, 3))\n",
    "plt.plot(r.history['loss'], label=\"train loss\")\n",
    "plt.plot(r.history['val_loss'], label=\"test loss\")\n",
    "plt.legend()\n",
    "plt.show()\n",
    "\n",
    "# plot mse\n",
    "plt.figure(figsize = (6, 3))\n",
    "plt.plot(r.history['mse'], label=\"train mse\")\n",
    "plt.plot(r.history['val_mse'], label=\"test mse\")\n",
    "plt.legend()\n",
    "plt.show()"
   ]
  },
  {
   "cell_type": "code",
   "execution_count": 10,
   "metadata": {},
   "outputs": [
    {
     "name": "stdout",
     "output_type": "stream",
     "text": [
      "The resulting val_loss is about: 0.6319630478404603\n",
      "The resulting val_mse is about: 0.6319630742073059\n"
     ]
    }
   ],
   "source": [
    "# Just for record\n",
    "print('The resulting val_loss is about: {}'.format(r.history['val_loss'][-1]))\n",
    "print('The resulting val_mse is about: {}'.format(r.history['val_mse'][-1]))"
   ]
  },
  {
   "cell_type": "code",
   "execution_count": 11,
   "metadata": {},
   "outputs": [
    {
     "data": {
      "text/plain": [
       "0.7997154772963821"
      ]
     },
     "execution_count": 11,
     "metadata": {},
     "output_type": "execute_result"
    }
   ],
   "source": [
    "0.6395448446273804**(1/2)"
   ]
  },
  {
   "cell_type": "code",
   "execution_count": null,
   "metadata": {},
   "outputs": [],
   "source": []
  }
 ],
 "metadata": {
  "kernelspec": {
   "display_name": "Python 3",
   "language": "python",
   "name": "python3"
  },
  "language_info": {
   "codemirror_mode": {
    "name": "ipython",
    "version": 3
   },
   "file_extension": ".py",
   "mimetype": "text/x-python",
   "name": "python",
   "nbconvert_exporter": "python",
   "pygments_lexer": "ipython3",
   "version": "3.7.7"
  }
 },
 "nbformat": 4,
 "nbformat_minor": 2
}
