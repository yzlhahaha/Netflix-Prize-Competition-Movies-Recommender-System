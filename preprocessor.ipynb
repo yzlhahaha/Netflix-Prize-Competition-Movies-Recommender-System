{
 "cells": [
  {
   "cell_type": "code",
   "execution_count": 1,
   "metadata": {},
   "outputs": [],
   "source": [
    "import numpy as np\n",
    "import pandas as pd"
   ]
  },
  {
   "cell_type": "code",
   "execution_count": 2,
   "metadata": {},
   "outputs": [],
   "source": [
    "# Load in txt files\n",
    "df_1 = pd.read_csv('combined_data_1.txt', header = None, names = ['user_id', 'rating'], usecols = [0,1])\n",
    "df_2 = pd.read_csv('combined_data_2.txt', header = None, names = ['user_id', 'rating'], usecols = [0,1])\n",
    "df_3 = pd.read_csv('combined_data_3.txt', header = None, names = ['user_id', 'rating'], usecols = [0,1])\n",
    "df_4 = pd.read_csv('combined_data_4.txt', header = None, names = ['user_id', 'rating'], usecols = [0,1])"
   ]
  },
  {
   "cell_type": "code",
   "execution_count": 3,
   "metadata": {},
   "outputs": [],
   "source": [
    "# Combine separate files together\n",
    "df = df_1.append(df_2)\n",
    "df = df.append(df_3)\n",
    "df = df.append(df_4)\n",
    "df = df.reset_index()\n",
    "df = df.drop(columns=['index'])"
   ]
  },
  {
   "cell_type": "code",
   "execution_count": 4,
   "metadata": {},
   "outputs": [],
   "source": [
    "# Create a separate dataframe for rows with no rating information\n",
    "df_nan = pd.DataFrame(pd.isnull(df.rating))\n",
    "df_nan = df_nan[df_nan['rating'] == True]\n",
    "df_nan = df_nan.reset_index()"
   ]
  },
  {
   "cell_type": "code",
   "execution_count": 5,
   "metadata": {},
   "outputs": [],
   "source": [
    "# Create a movie_id numpy array to add into the previous dataframe\n",
    "movie_np = []\n",
    "movie_id = 1\n",
    "\n",
    "for i,j in zip(df_nan['index'][1:],df_nan['index'][:-1]):\n",
    "    temp = np.full((1, i - j - 1), movie_id)\n",
    "    movie_np = np.append(movie_np, temp)\n",
    "    movie_id += 1"
   ]
  },
  {
   "cell_type": "code",
   "execution_count": 6,
   "metadata": {},
   "outputs": [],
   "source": [
    "# This block is essentially the same as the previous block, just to include the last few rows into the array\n",
    "last_record = np.full((1,len(df) - df_nan.iloc[-1, 0] - 1),movie_id)\n",
    "movie_np = np.append(movie_np, last_record)"
   ]
  },
  {
   "cell_type": "code",
   "execution_count": 7,
   "metadata": {},
   "outputs": [],
   "source": [
    "# Get rid of the rows with no rating, those with movie_id information\n",
    "df = df[pd.notnull(df['rating'])]\n",
    "\n",
    "# Change each column to correct type\n",
    "df['movie_id'] = movie_np.astype(int)\n",
    "df['user_id'] = df['user_id'].astype(int)\n",
    "df['rating'] = df['rating'].astype(float)"
   ]
  },
  {
   "cell_type": "code",
   "execution_count": 8,
   "metadata": {},
   "outputs": [
    {
     "name": "stdout",
     "output_type": "stream",
     "text": [
      "The dataframe has shape: (100480507, 3)\n"
     ]
    }
   ],
   "source": [
    "# Just to check the shape of the processed dataframe\n",
    "print('The dataframe has shape: {}'.format(df.shape))"
   ]
  },
  {
   "cell_type": "code",
   "execution_count": 9,
   "metadata": {},
   "outputs": [],
   "source": [
    "# Make the movie_id starts from 0\n",
    "df.movie_id = df.movie_id - 1\n",
    "\n",
    "# Create a mapping for user_id\n",
    "unique_user_ids = set(df.user_id.values)\n",
    "user2idx = {}\n",
    "count = 0\n",
    "for user_id in unique_user_ids:\n",
    "    user2idx[user_id] = count\n",
    "    count += 1\n",
    "    \n",
    "# Apply the mapping to the dataframe\n",
    "df['user_map'] = df.apply(lambda row: user2idx[row.user_id], axis=1)"
   ]
  },
  {
   "cell_type": "code",
   "execution_count": 10,
   "metadata": {},
   "outputs": [],
   "source": [
    "# Save as a temporary csv file\n",
    "df.to_csv('processed_rating.csv', index=False)"
   ]
  },
  {
   "cell_type": "code",
   "execution_count": null,
   "metadata": {},
   "outputs": [],
   "source": []
  }
 ],
 "metadata": {
  "kernelspec": {
   "display_name": "Python 3",
   "language": "python",
   "name": "python3"
  },
  "language_info": {
   "codemirror_mode": {
    "name": "ipython",
    "version": 3
   },
   "file_extension": ".py",
   "mimetype": "text/x-python",
   "name": "python",
   "nbconvert_exporter": "python",
   "pygments_lexer": "ipython3",
   "version": "3.7.6"
  }
 },
 "nbformat": 4,
 "nbformat_minor": 2
}
